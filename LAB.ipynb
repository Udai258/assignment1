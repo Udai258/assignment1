{
  "nbformat": 4,
  "nbformat_minor": 0,
  "metadata": {
    "colab": {
      "provenance": []
    },
    "kernelspec": {
      "name": "python3",
      "display_name": "Python 3"
    },
    "language_info": {
      "name": "python"
    }
  },
  "cells": [
    {
      "cell_type": "code",
      "execution_count": 3,
      "metadata": {
        "colab": {
          "base_uri": "https://localhost:8080/"
        },
        "id": "RB3r0lc8UIOP",
        "outputId": "3ac4fe0a-4a0c-428e-f430-e22e7829fa0e"
      },
      "outputs": [
        {
          "output_type": "stream",
          "name": "stdout",
          "text": [
            "hello world\n"
          ]
        }
      ],
      "source": [
        "#Q1 Write a Python program to print \"Hello, World!\n",
        "\"print(\"hello world\")\""
      ]
    },
    {
      "cell_type": "code",
      "source": [
        "#Q2  Write a Python program that displays your name and age ?\n",
        "name='Udai'\n",
        "age=24\n",
        "print(\"name\",name)\n",
        "print(\"age\",age)"
      ],
      "metadata": {
        "colab": {
          "base_uri": "https://localhost:8080/"
        },
        "id": "T5ZHSIKeVsWU",
        "outputId": "7925dfed-516d-4d43-a8fb-ef407d82fa79"
      },
      "execution_count": 5,
      "outputs": [
        {
          "output_type": "stream",
          "name": "stdout",
          "text": [
            "name Udai\n",
            "age 24\n"
          ]
        }
      ]
    },
    {
      "cell_type": "code",
      "source": [
        "#Q3 Write code to print all the pre-defined keywords in Python using the keyword library ?\n",
        "import keyword\n",
        "print(keyword.kwlist)\n",
        "\n",
        "help(\"keywords\")"
      ],
      "metadata": {
        "colab": {
          "base_uri": "https://localhost:8080/"
        },
        "id": "6K6SigKRYZWk",
        "outputId": "ca441dbc-c618-4c8d-a400-91945dda0946"
      },
      "execution_count": 9,
      "outputs": [
        {
          "output_type": "stream",
          "name": "stdout",
          "text": [
            "['False', 'None', 'True', 'and', 'as', 'assert', 'async', 'await', 'break', 'class', 'continue', 'def', 'del', 'elif', 'else', 'except', 'finally', 'for', 'from', 'global', 'if', 'import', 'in', 'is', 'lambda', 'nonlocal', 'not', 'or', 'pass', 'raise', 'return', 'try', 'while', 'with', 'yield']\n",
            "\n",
            "Here is a list of the Python keywords.  Enter any keyword to get more help.\n",
            "\n",
            "False               class               from                or\n",
            "None                continue            global              pass\n",
            "True                def                 if                  raise\n",
            "and                 del                 import              return\n",
            "as                  elif                in                  try\n",
            "assert              else                is                  while\n",
            "async               except              lambda              with\n",
            "await               finally             nonlocal            yield\n",
            "break               for                 not                 \n",
            "\n"
          ]
        }
      ]
    },
    {
      "cell_type": "code",
      "source": [
        "#Q4 Write a program that checks if a given word is a Python keyword?\n",
        "import keyword\n",
        "word=input(\"word you want to search:\")\n",
        "if keyword.iskeyword(word):\n",
        "  print(\"word is a keyword\")\n",
        "else:\n",
        "    print(\"word is not a keyword\")\n",
        "    help(\"keywords\")"
      ],
      "metadata": {
        "colab": {
          "base_uri": "https://localhost:8080/"
        },
        "id": "G2Ivza75bzYZ",
        "outputId": "3a1f5313-47d5-46c2-f0ca-eeb94f29615c"
      },
      "execution_count": 17,
      "outputs": [
        {
          "output_type": "stream",
          "name": "stdout",
          "text": [
            "word you want to search:udai\n",
            "word is not a keyword\n",
            "\n",
            "Here is a list of the Python keywords.  Enter any keyword to get more help.\n",
            "\n",
            "False               class               from                or\n",
            "None                continue            global              pass\n",
            "True                def                 if                  raise\n",
            "and                 del                 import              return\n",
            "as                  elif                in                  try\n",
            "assert              else                is                  while\n",
            "async               except              lambda              with\n",
            "await               finally             nonlocal            yield\n",
            "break               for                 not                 \n",
            "\n"
          ]
        }
      ]
    },
    {
      "cell_type": "code",
      "source": [
        "#Q5.Create a list and tuple in Python, and demonstrate how attempting to change an element works differently for each?\n",
        "list=[1,2,3,4,5,'Udai']\n",
        "tuple=(6,7,8,5,9,\"alice\")\n",
        "list[2]='NIKE'\n",
        "try:\n",
        "    tuple[0] = 10\n",
        "except TypeError as e:\n",
        "    print(\"Error:\", e)\n",
        "print(list)\n",
        "print(tuple)\n"
      ],
      "metadata": {
        "colab": {
          "base_uri": "https://localhost:8080/"
        },
        "id": "8VKQU0LukHTI",
        "outputId": "17eec981-ea1d-40de-91de-11172d303f88"
      },
      "execution_count": 26,
      "outputs": [
        {
          "output_type": "stream",
          "name": "stdout",
          "text": [
            "Error: 'tuple' object does not support item assignment\n",
            "[1, 2, 'NIKE', 4, 5, 'Udai']\n",
            "(6, 7, 8, 5, 9, 'alice')\n"
          ]
        }
      ]
    },
    {
      "cell_type": "code",
      "source": [
        "#Q6.Write a function to demonstrate the behavior of mutable and immutable arguments?\n",
        "def modify_list(lst):\n",
        "    lst.append(4)\n",
        "def modify_string(s):\n",
        "    s += \" world\"\n",
        "my_list = [1, 2, 3]\n",
        "my_string = \"hello\"\n",
        "modify_list(my_list)\n",
        "print(\"Modified list:\", my_list)\n",
        "modify_string(my_string)\n",
        "print(\"String after function call:\", my_string)\n"
      ],
      "metadata": {
        "colab": {
          "base_uri": "https://localhost:8080/"
        },
        "id": "rjioWDUYomw5",
        "outputId": "6bd3412a-0581-4d0e-abca-27230119c925"
      },
      "execution_count": 30,
      "outputs": [
        {
          "output_type": "stream",
          "name": "stdout",
          "text": [
            "Modified list: [1, 2, 3, 4]\n",
            "String after function call: hello\n"
          ]
        }
      ]
    },
    {
      "cell_type": "code",
      "source": [
        "#Q7.Write a function to demonstrate the behavior of mutable and immutable arguments?\n",
        "def modify_list(lst):\n",
        "    lst.append(4)\n",
        "def modify_string(s):\n",
        "    s += \" world\"\n",
        "my_list = [1, 2, 3]\n",
        "my_string = \"hello\"\n",
        "modify_list(my_list)\n",
        "print(\"Modified list:\", my_list)\n",
        "modify_string(my_string)\n",
        "print(\"String after function call:\", my_string)"
      ],
      "metadata": {
        "colab": {
          "base_uri": "https://localhost:8080/"
        },
        "id": "6gozAQIMtLOm",
        "outputId": "d6a90f5f-a1e9-48ea-d458-dba4f9e0e465"
      },
      "execution_count": 31,
      "outputs": [
        {
          "output_type": "stream",
          "name": "stdout",
          "text": [
            "Modified list: [1, 2, 3, 4]\n",
            "String after function call: hello\n"
          ]
        }
      ]
    },
    {
      "cell_type": "code",
      "source": [
        "#Q8.Write a program to demonstrate the use of logical operators?\n",
        "a=2\n",
        "b=3\n",
        "print(a+b)"
      ],
      "metadata": {
        "colab": {
          "base_uri": "https://localhost:8080/"
        },
        "id": "ewQ2FciRtYay",
        "outputId": "f6d3dee0-2017-4e1c-ed8c-29b06007e269"
      },
      "execution_count": 33,
      "outputs": [
        {
          "output_type": "stream",
          "name": "stdout",
          "text": [
            "5\n"
          ]
        }
      ]
    },
    {
      "cell_type": "code",
      "source": [
        "#Q9.Write a Python program to convert user input from string to integer, float, and boolean types?\n",
        "x=input(\"enter the number\")\n",
        "x=int(x)\n",
        "print(x)\n",
        "print(type(x))\n",
        "x=float(x)\n",
        "print(x)\n",
        "print(type(x))\n",
        "x=bool(x)\n",
        "print(x)\n",
        "print(type(x))"
      ],
      "metadata": {
        "colab": {
          "base_uri": "https://localhost:8080/"
        },
        "id": "o_xRTYGautG7",
        "outputId": "1103d085-b9ca-48c9-d8ce-e7d9829305bb"
      },
      "execution_count": 35,
      "outputs": [
        {
          "output_type": "stream",
          "name": "stdout",
          "text": [
            "enter the number5\n",
            "5\n",
            "<class 'int'>\n",
            "5.0\n",
            "<class 'float'>\n",
            "True\n",
            "<class 'bool'>\n"
          ]
        }
      ]
    },
    {
      "cell_type": "code",
      "source": [
        "#Q10.Write code to demonstrate type casting with list elements?\n",
        "a=\"2\"\n",
        "type(a)\n",
        "b=float(a)\n",
        "print(type(b))\n",
        "print(b)"
      ],
      "metadata": {
        "colab": {
          "base_uri": "https://localhost:8080/"
        },
        "id": "rxML0uAswndI",
        "outputId": "1b411875-fd52-4b19-c746-1a65b1cca145"
      },
      "execution_count": 44,
      "outputs": [
        {
          "output_type": "stream",
          "name": "stdout",
          "text": [
            "<class 'float'>\n",
            "2.0\n"
          ]
        }
      ]
    },
    {
      "cell_type": "code",
      "source": [
        "#Q11. Write a program that checks if a number is positive, negative, or zero?\n",
        "x=int(input(\"enter the number\"))\n",
        "if x > 0:\n",
        "  print(\"positive\")\n",
        "elif x<0:\n",
        "  print(\"negative\")\n",
        "else:\n",
        "  print(\"zero\")\n"
      ],
      "metadata": {
        "colab": {
          "base_uri": "https://localhost:8080/"
        },
        "id": "Qhvt-X5QyUwo",
        "outputId": "011106b1-f343-4f65-ade7-e10ab0c78fee"
      },
      "execution_count": 51,
      "outputs": [
        {
          "output_type": "stream",
          "name": "stdout",
          "text": [
            "enter the number-5\n",
            "negative\n"
          ]
        }
      ]
    },
    {
      "cell_type": "code",
      "source": [
        "#Q12.Write a for loop to print numbers from 1 to 100\n",
        "for i in range(1,101):\n",
        "  print(i, end=\",\")"
      ],
      "metadata": {
        "colab": {
          "base_uri": "https://localhost:8080/"
        },
        "id": "t6x6ulCB0E9i",
        "outputId": "0d568983-6985-4cbf-b290-aaaf15c2c558"
      },
      "execution_count": 56,
      "outputs": [
        {
          "output_type": "stream",
          "name": "stdout",
          "text": [
            "1,2,3,4,5,6,7,8,9,10,11,12,13,14,15,16,17,18,19,20,21,22,23,24,25,26,27,28,29,30,31,32,33,34,35,36,37,38,39,40,41,42,43,44,45,46,47,48,49,50,51,52,53,54,55,56,57,58,59,60,61,62,63,64,65,66,67,68,69,70,71,72,73,74,75,76,77,78,79,80,81,82,83,84,85,86,87,88,89,90,91,92,93,94,95,96,97,98,99,100,"
          ]
        }
      ]
    },
    {
      "cell_type": "code",
      "source": [
        "#Q13.Write a Python program to find the sum of all even numbers between 1 and 50?\n",
        "total=0\n",
        "for i in range(1,51):\n",
        "  if i % 2 == 0:\n",
        "    total += i\n",
        "print(\"sum of all even number 1 to 50:\" , total)"
      ],
      "metadata": {
        "colab": {
          "base_uri": "https://localhost:8080/"
        },
        "id": "PvYxsZ-b06p7",
        "outputId": "73e06b74-c8eb-4437-a21f-fd6c9620a393"
      },
      "execution_count": 70,
      "outputs": [
        {
          "output_type": "stream",
          "name": "stdout",
          "text": [
            "sum of all even number 1 to 50: 650\n"
          ]
        }
      ]
    },
    {
      "cell_type": "code",
      "source": [
        "#Q14.Write a program to reverse a string using a while loop?\n",
        "string = input(\"Enter a string: \")\n",
        "reversed_string = \"\"\n",
        "i = len(string) - 1\n",
        "\n",
        "while i >= 0:\n",
        "    reversed_string += string[i]\n",
        "    i -= 1\n",
        "\n",
        "print(\"Reversed string:\", reversed_string)"
      ],
      "metadata": {
        "colab": {
          "base_uri": "https://localhost:8080/"
        },
        "id": "VMb3aVE-3zH1",
        "outputId": "bde7aae8-f9ca-4800-c657-54c9d83c59f2"
      },
      "execution_count": 71,
      "outputs": [
        {
          "output_type": "stream",
          "name": "stdout",
          "text": [
            "Enter a string: udai\n",
            "Reversed string: iadu\n"
          ]
        }
      ]
    },
    {
      "cell_type": "code",
      "source": [
        "#Q15. Write a Python program to calculate the factorial of a number provided by the user using a while loop?\n",
        "num = int(input(\"Enter a number to calculate its factorial: \"))\n",
        "factorial = 1\n",
        "i = 1\n",
        "while i <= num:\n",
        "    factorial *= i\n",
        "    i += 1\n",
        "print(\"The factorial of num is:\" ,factorial)"
      ],
      "metadata": {
        "colab": {
          "base_uri": "https://localhost:8080/"
        },
        "id": "AEwKx1uE7Ylt",
        "outputId": "668c5c76-d75d-4058-bc35-117ffff26595"
      },
      "execution_count": 72,
      "outputs": [
        {
          "output_type": "stream",
          "name": "stdout",
          "text": [
            "Enter a number to calculate its factorial: 4\n",
            "The factorial of num is: 24\n"
          ]
        }
      ]
    },
    {
      "cell_type": "markdown",
      "source": [
        "Q1. What is Python, and why is it popular?\n",
        "   -> ans :python is a high-level , interpreted programming language . it is popular for it's simplicity , redability and versatility.\n",
        "\n",
        "Q2.What is an interpreter in Python?\n",
        "  -> ans : In Python, an interpreter is a program that executes Python code directly, line by line, without needing to compile the entire code into machine language beforehand. This allows Python to be an interpreted language, making it easier to debug and execute scripts.\n",
        "\n",
        "Q3.What are pre-defined keywords in Python?\n",
        "  ->ans: pre-defined keywords are the resevered words in pyhton that has a special meaning and specific purpose in python .eg: false, none , true , etc.\n",
        "\n",
        "Q4.Can keywords be used as variable names?\n",
        "  ->ans: No, keywords cannot be used as a variable name.\n",
        "\n",
        "Q5.What is mutability in Python?\n",
        "  ->ans:  the objects or containers which have the ability to change or modify the data or value is called mutability.\n",
        "\n",
        "Q6.Why are lists mutable, but tuples are immutable?\n",
        "  -> ans: \"List\" is mutable because it allows changing, adding, removing elements from it during execuion. As list have a stucture that supports resizing abd changing elements efficiently.\n",
        "\n",
        "  *where \"Tuple\" is a fix collection which is once created cannot be changed during execution.Once created a tuple cannot be altered\n",
        "\n",
        "Q7.What is the difference between “==” and “is” operators in Python?\n",
        "  ->ans: \"==\"(equality operators) it compares the value of two objects to check if they are equal, its evalutaes to TRUE if the value of the objects are the same regardsless of weather they are stored in the same memory location.\n",
        "  eg: a = [1,2,3]\n",
        "      b=[1,2,3]\n",
        "      a==b  #it will execute TRUE\n",
        "\n",
        "  \"IS\"(identify operator)it checks weather the two objects refer to the same memory location, its only evaluates TRUE if both objects have the same identity, meaning they are the same objects in the memory.\n",
        "  eg:a = [1,2,3]\n",
        "      b=[1,2,3]\n",
        "      a is b  #it will execute FALSE.\n",
        "Q8.What are logical operators in Python?\n",
        "->ANS: logical operatorsare the operators that are used to combine conditinal statements or boolean expressions. It helps us to perform logical operations such as AND , OR and NOT .\n",
        "\n",
        "Q9. What is type casting in Python?\n",
        "  ->ans:Type casting, also referred to as type conversion, is the process of changing one data type to another in Python. It is often necessary for performing arithmetic operations, data manipulation, and input/output operations in Python programs.\n",
        "  eg:int(), float(), str(), list(), tuple(), dict(), etc.\n",
        "\n",
        "Q10.What is the difference between implicit and explicit type casting?\n",
        "  ->ans: Implicit type casting : is automatically performed by python when it is safe to convert data type to another without losing information.\n",
        "  eg: a=5\n",
        "      b=6\n",
        "      result=a+b\n",
        "      print(result)#result=5\n",
        "\n",
        "    explicit type casting: is a manual process when the programer or user wants to change the data type by using functions like int(),float(), str()\n",
        "    eg: a =5\n",
        "        b=float(a)\n",
        "        print(b) # result=5.0\n",
        "\n",
        "Q11.What is the purpose of conditional statements in Python?\n",
        "  ->ans:•\tConditionals in Python are used to execute code based on the evaluation of one or more conditions\n",
        "  the purpose of conditional statements are.\n",
        "  1. decision making : helps the program to decide what actions to perform depending upon inputs and user actions\n",
        "  2. Control program flow : controls which block of code to be executed under diffrent conditions\n",
        "  3.Multiple conditions: can evalute multiple conditions using IF,ELSE,ELIF to perform specific actions.\n",
        "  4. Optimization: ensure certain blocks are executed while executing the program if necessary.\n",
        "\n",
        "Q12. How does the elif statement work?\n",
        "  ->ans:The elif statement in Python is short for \"else if.\" It allows you to chain multiple conditions together when you need to test more than one possible outcome in a decision-making process. It's used as part of a larger conditional structure that begins with an if statement.\n",
        "\n",
        "Q13. What is the difference between for and while loops?\n",
        "  ->ans: A For loop is typically used when you know in advance how many times you want to execute a block of code. It has three parts: initialization, condition, and iteration.\n",
        "  eg : for i in range(5):\n",
        "              print (i) #runs 5 times\n",
        "\n",
        "  while loop runs as long as the specified condition is True. It’s commonly used when you don’t know beforehand how many iterations are needed, and the loop should continue until a certain condition changes\n",
        "  eg: i = 0\n",
        "while i < 5:  # Runs as long as i is less than 5\n",
        "    print(i)\n",
        "    i+=1\n",
        "\n",
        "Q14. Describe a scenario where a while loop is more suitable than a for loop?\n",
        "  ->ans:A while loop is more suitable than a for loop in scenarios where the number of iterations is not known in advance and depends on a condition that can change dynamically during execution.\n",
        "\n",
        "Scenario: Monitoring a Server for Errors\n",
        "Imagine you are writing a script to monitor a server's log file for errors. You want the program to run continuously, checking the log for new error messages until a specific \"shutdown\" signal is detected. In this case, the number of checks (iterations) isn't known upfront the program should keep running until a certain condition is met.\n",
        "\n",
        "Here’s how a while loop is more appropriate:\n",
        "python\n",
        "Copy code\n",
        "while not shutdown_signal_received():\n",
        "    check_log_for_errors()\n",
        "    time.sleep(5)  # wait for 5 seconds before checking again\n",
        "In this scenario:\n",
        "\n",
        "You don't know how many times you will need to check the log.\n",
        "The loop should keep running as long as the shutdown signal hasn't been received.\n",
        "A while loop is ideal because it allows the loop to continue indefinitely until a specific condition (the shutdown_signal_received() function) is met. A for loop would be less suitable here because it requires a predefined number of iterations, which you don’t have in this scenario."
      ],
      "metadata": {
        "id": "xsnWJcYy5NMq"
      }
    }
  ]
}