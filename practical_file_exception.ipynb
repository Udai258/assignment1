{
  "nbformat": 4,
  "nbformat_minor": 0,
  "metadata": {
    "colab": {
      "provenance": []
    },
    "kernelspec": {
      "name": "python3",
      "display_name": "Python 3"
    },
    "language_info": {
      "name": "python"
    }
  },
  "cells": [
    {
      "cell_type": "code",
      "execution_count": 1,
      "metadata": {
        "id": "pNfeKjaSrLC3"
      },
      "outputs": [],
      "source": [
        "#1) How can you open a file for writing in Python and write a string to it?\n",
        "\n",
        "text_to_append = \"\\nThis is an additional line.\"\n",
        "\n",
        "# Open the file in append mode\n",
        "with open('example.txt', 'a') as file:\n",
        "    # Append the string to the file\n",
        "    file.write(text_to_append)"
      ]
    },
    {
      "cell_type": "code",
      "source": [
        "#2) Write a Python program to read the contents of a file and print each line?\n",
        "\n",
        "# Open the file in read mode\n",
        "with open('example.txt', 'r') as file:\n",
        "    # Iterate over each line in the file\n",
        "    for line in file:\n",
        "        # Print the line\n",
        "        print(line, end='')"
      ],
      "metadata": {
        "id": "hNUNpjxQrr0D"
      },
      "execution_count": null,
      "outputs": []
    },
    {
      "cell_type": "code",
      "source": [
        "#3) How would you handle a case where the file doesn't exist while trying to open it for reading?\n",
        "\n",
        "try:\n",
        "    # Attempt to open the file in read mode\n",
        "    with open('example.txt', 'r') as file:\n",
        "        # Read and process the file content\n",
        "        content = file.read()\n",
        "        print(content)\n",
        "except FileNotFoundError:\n",
        "    # Handle the case where the file does not exist\n",
        "    print(\"The file 'example.txt' does not exist.\")\n",
        "\n",
        "\n",
        "\n",
        "    import os\n",
        "\n",
        "file_path = 'example.txt'\n",
        "\n",
        "if os.path.isfile(file_path):\n",
        "    with open(file_path, 'r') as file:\n",
        "        content = file.read()\n",
        "        print(content)\n",
        "else:\n",
        "    print(f\"The file '{file_path}' does not exist.\")"
      ],
      "metadata": {
        "id": "eJn4p6gxsDe9"
      },
      "execution_count": null,
      "outputs": []
    },
    {
      "cell_type": "code",
      "source": [
        "#4) Write a Python script that reads from one file and writes its content to another file?\n",
        "\n",
        "source_file_path = 'source.txt'\n",
        "destination_file_path = 'destination.txt'\n",
        "\n",
        "try:\n",
        "    # Open the source file in read mode and the destination file in write mode\n",
        "    with open(source_file_path, 'r') as source_file, \\\n",
        "         open(destination_file_path, 'w') as destination_file:\n",
        "        # Read the entire content of the source file\n",
        "        content = source_file.read()\n",
        "        # Write the content to the destination file\n",
        "        destination_file.write(content)\n",
        "    print(f\"Content successfully copied from '{source_file_path}' to '{destination_file_path}'.\")\n",
        "except FileNotFoundError:\n",
        "    print(f\"Error: The file '{source_file_path}' does not exist.\")\n",
        "except IOError as e:\n",
        "    print(f\"An I/O error occurred: {e}\")\n"
      ],
      "metadata": {
        "colab": {
          "base_uri": "https://localhost:8080/"
        },
        "id": "qIDKpJC6swxw",
        "outputId": "f510f37b-9082-43ea-e1e9-5c1b94246144"
      },
      "execution_count": 2,
      "outputs": [
        {
          "output_type": "stream",
          "name": "stdout",
          "text": [
            "Error: The file 'source.txt' does not exist.\n"
          ]
        }
      ]
    },
    {
      "cell_type": "code",
      "source": [
        "#5)How would you catch and handle division by zero error in Python?\n",
        "\n",
        "try:\n",
        "    numerator = 10\n",
        "    denominator = 0\n",
        "    result = numerator / denominator\n",
        "except ZeroDivisionError:\n",
        "    print(\"Error: Division by zero is not allowed.\")\n",
        "else:\n",
        "    print(f\"The result is: {result}\")"
      ],
      "metadata": {
        "colab": {
          "base_uri": "https://localhost:8080/"
        },
        "id": "jS_uH1ixtGwe",
        "outputId": "b90c8635-018c-4b8e-ae62-dadd41ca7bc1"
      },
      "execution_count": 3,
      "outputs": [
        {
          "output_type": "stream",
          "name": "stdout",
          "text": [
            "Error: Division by zero is not allowed.\n"
          ]
        }
      ]
    },
    {
      "cell_type": "code",
      "source": [
        "#6) Write a Python program that logs an error message to a log file when a division by zero exception occurs?\n",
        "\n",
        "import logging\n",
        "\n",
        "# Configure the logging system\n",
        "logging.basicConfig(filename='error.log', level=logging.ERROR)"
      ],
      "metadata": {
        "id": "1_OU0dPatWBH"
      },
      "execution_count": 4,
      "outputs": []
    },
    {
      "cell_type": "code",
      "source": [
        "import logging\n",
        "\n",
        "# Configure the logging system\n",
        "logging.basicConfig(\n",
        "    filename='app.log',  # Log file name\n",
        "    level=logging.ERROR,  # Log level\n",
        "    format='%(asctime)s %(levelname)s: %(message)s'  # Log message format\n",
        ")\n",
        "\n",
        "try:\n",
        "    numerator = 10\n",
        "    denominator = 0\n",
        "    result = numerator / denominator\n",
        "except ZeroDivisionError:\n",
        "    logging.error('Attempted to divide by zero.')\n"
      ],
      "metadata": {
        "colab": {
          "base_uri": "https://localhost:8080/"
        },
        "id": "DI3G5wmitpsY",
        "outputId": "0d048733-5f35-4a9d-b58f-e49533cf71db"
      },
      "execution_count": 5,
      "outputs": [
        {
          "output_type": "stream",
          "name": "stderr",
          "text": [
            "ERROR:root:Attempted to divide by zero.\n"
          ]
        }
      ]
    },
    {
      "cell_type": "code",
      "source": [
        "#7) How do you log information at different levels (INFO, ERROR, WARNING) in Python using the logging module?\n",
        "\n",
        "\n",
        "import logging\n",
        "\n",
        "# Configure the logging system\n",
        "logging.basicConfig(\n",
        "    filename='app.log',  # Log file name\n",
        "    level=logging.DEBUG,  # Set the logging level\n",
        "    format='%(asctime)s %(levelname)s: %(message)s'  # Log message format\n",
        ")\n",
        "\n",
        "# Log messages at different levels\n",
        "logging.debug('This is a debug message.')\n",
        "logging.info('This is an info message.')\n",
        "logging.warning('This is a warning message.')\n",
        "logging.error('This is an error message.')\n",
        "logging.critical('This is a critical message.')\n"
      ],
      "metadata": {
        "colab": {
          "base_uri": "https://localhost:8080/"
        },
        "id": "yQ48_V5MtuGm",
        "outputId": "b49cbf55-7fb5-4faa-d93a-9b9b42214bb8"
      },
      "execution_count": 6,
      "outputs": [
        {
          "output_type": "stream",
          "name": "stderr",
          "text": [
            "WARNING:root:This is a warning message.\n",
            "ERROR:root:This is an error message.\n",
            "CRITICAL:root:This is a critical message.\n"
          ]
        }
      ]
    },
    {
      "cell_type": "code",
      "source": [
        "#8) Write a program to handle a file opening error using exception handling?\n",
        "\n",
        "try:\n",
        "    with open('example.txt', 'r') as file:\n",
        "        content = file.read()\n",
        "        print(content)\n",
        "except FileNotFoundError:\n",
        "    print(\"Error: The file 'example.txt' was not found.\")\n",
        "except IOError:\n",
        "    print(\"Error: An I/O error occurred while opening the file.\")\n"
      ],
      "metadata": {
        "colab": {
          "base_uri": "https://localhost:8080/"
        },
        "id": "yWhtCwojucjG",
        "outputId": "40bb074b-a0e3-45ae-b0a2-8c08b0926ec1"
      },
      "execution_count": 7,
      "outputs": [
        {
          "output_type": "stream",
          "name": "stdout",
          "text": [
            "\n",
            "This is an additional line.\n"
          ]
        }
      ]
    },
    {
      "cell_type": "code",
      "source": [
        "#9)How can you read a file line by line and store its content in a list in Python?\n",
        "\n",
        "\n",
        "\n",
        "\n",
        "with open('example.txt', 'r') as file:\n",
        "    lines = file.readlines()\n",
        "    # Remove newline characters from each line\n",
        "    lines = [line.strip() for line in lines]\n",
        "\n",
        "    lines = []\n",
        "with open('example.txt', 'r') as file:\n",
        "    for line in file:\n",
        "        lines.append(line.strip())\n",
        "    # The following line was not indented, causing the error.\n",
        "    # It should be indented to be part of the 'with' block.\n",
        "    with open('example.txt', 'r') as file:\n",
        "        lines = [line.strip() for line in file] # This line should be indented"
      ],
      "metadata": {
        "id": "VBNzlKgNwwl_"
      },
      "execution_count": 10,
      "outputs": []
    },
    {
      "cell_type": "code",
      "source": [
        "#10) How can you append data to an existing file in Python?\n",
        "\n",
        "\n",
        "with open('example.txt', 'a') as file:\n",
        "    # Write the new content to the file\n",
        "    file.write('This is the new content to append.\\n')"
      ],
      "metadata": {
        "id": "9zZOdhDuxx3u"
      },
      "execution_count": 11,
      "outputs": []
    },
    {
      "cell_type": "code",
      "source": [
        "#11)Write a Python program that uses a try-except block to handle an error when attempting to access a\n",
        "#dictionary key that doesn't exist\n",
        "\n",
        "\n",
        "my_dict = {'name': 'Alice', 'age': 30}\n",
        "\n",
        "try:\n",
        "    value = my_dict['gender']\n",
        "except KeyError:\n",
        "    print(\"The key 'gender' does not exist in the dictionary.\")\n",
        "    value = None # Assign None to value in the except block\n",
        "if value is None:\n",
        "    print(\"The key 'gender' does not exist in the dictionary.\")"
      ],
      "metadata": {
        "colab": {
          "base_uri": "https://localhost:8080/"
        },
        "id": "OMS7qwj9zFDh",
        "outputId": "d757c458-bb2e-4257-f128-84f2c425af40"
      },
      "execution_count": 13,
      "outputs": [
        {
          "output_type": "stream",
          "name": "stdout",
          "text": [
            "The key 'gender' does not exist in the dictionary.\n",
            "The key 'gender' does not exist in the dictionary.\n"
          ]
        }
      ]
    },
    {
      "cell_type": "code",
      "source": [
        "#12) Write a program that demonstrates using multiple except blocks to handle different types of exceptions\n",
        "\n",
        "\n",
        "\n",
        "try:\n",
        "    # Attempt to open a file\n",
        "    with open('data.txt', 'r') as file:\n",
        "        content = file.read()\n",
        "        # Attempt to convert content to an integer\n",
        "        number = int(content)\n",
        "        result = 10 / number\n",
        "except FileNotFoundError:\n",
        "    print(\"Error: The file 'data.txt' was not found.\")\n",
        "except ValueError:\n",
        "    print(\"Error: Could not convert data to an integer.\")\n",
        "except ZeroDivisionError:\n",
        "    print(\"Error: Division by zero occurred.\")\n",
        "except Exception as e:\n",
        "    print(f\"An unexpected error occurred: {e}\")\n",
        "\n"
      ],
      "metadata": {
        "colab": {
          "base_uri": "https://localhost:8080/"
        },
        "id": "u-OIQtrl0UMI",
        "outputId": "f32bca47-648a-4e40-c50c-b52a46fa2aa8"
      },
      "execution_count": 14,
      "outputs": [
        {
          "output_type": "stream",
          "name": "stdout",
          "text": [
            "Error: The file 'data.txt' was not found.\n"
          ]
        }
      ]
    },
    {
      "cell_type": "code",
      "source": [
        "#13) How would you check if a file exists before attempting to read it in Python?\n",
        "\n",
        "from pathlib import Path\n",
        "\n",
        "file_path = Path('example.txt')\n",
        "\n",
        "if file_path.is_file():\n",
        "    with file_path.open('r') as file:\n",
        "        content = file.read()\n",
        "        print(content)\n",
        "else:\n",
        "    print(f\"The file '{file_path}' does not exist.\")"
      ],
      "metadata": {
        "colab": {
          "base_uri": "https://localhost:8080/"
        },
        "id": "O0AQyzBn1V0s",
        "outputId": "ad01aeba-681e-4176-dc06-ba7a8e2f3c2b"
      },
      "execution_count": 16,
      "outputs": [
        {
          "output_type": "stream",
          "name": "stdout",
          "text": [
            "\n",
            "This is an additional line.This is the new content to append.\n",
            "\n"
          ]
        }
      ]
    },
    {
      "cell_type": "code",
      "source": [
        "#14) Write a program that uses the logging module to log both informational and error messages?\n",
        "\n",
        "\n",
        "import logging\n",
        "\n",
        "# Configure the logging system\n",
        "logging.basicConfig(\n",
        "    filename='app.log',  # Log messages will be saved to 'app.log'\n",
        "    filemode='w',        # 'w' to overwrite the log file each time; 'a' to append\n",
        "    level=logging.DEBUG,  # Capture all levels of log messages\n",
        "    format='%(asctime)s %(levelname)s: %(message)s'  # Log message format\n",
        ")\n",
        "\n",
        "# Log an informational message\n",
        "logging.info('This is an informational message.')\n",
        "\n",
        "# Log an error message\n",
        "try:\n",
        "    result = 10 / 0\n",
        "except ZeroDivisionError:\n",
        "    logging.error('Attempted to divide by zero.')\n"
      ],
      "metadata": {
        "colab": {
          "base_uri": "https://localhost:8080/"
        },
        "id": "0Mt1DThN2FZo",
        "outputId": "f61bbed5-3520-48e5-dcc9-e4ae18339658"
      },
      "execution_count": 17,
      "outputs": [
        {
          "output_type": "stream",
          "name": "stderr",
          "text": [
            "ERROR:root:Attempted to divide by zero.\n"
          ]
        }
      ]
    },
    {
      "cell_type": "code",
      "source": [
        "#15) Write a Python program that prints the content of a file and handles the case when the file is empty?\n",
        "\n",
        "\n",
        "file_path = 'example.txt'\n",
        "\n",
        "try:\n",
        "    with open(file_path, 'r') as file:\n",
        "        content = file.read()\n",
        "        if content:\n",
        "            print(content)\n",
        "        else:\n",
        "            print(f\"The file '{file_path}' is empty.\")\n",
        "except FileNotFoundError:\n",
        "    print(f\"The file '{file_path}' does not exist.\")"
      ],
      "metadata": {
        "colab": {
          "base_uri": "https://localhost:8080/"
        },
        "id": "XAqGjFgF27DT",
        "outputId": "432aee31-570c-4147-b7ff-aff77e093a76"
      },
      "execution_count": 18,
      "outputs": [
        {
          "output_type": "stream",
          "name": "stdout",
          "text": [
            "\n",
            "This is an additional line.This is the new content to append.\n",
            "\n"
          ]
        }
      ]
    },
    {
      "cell_type": "code",
      "source": [
        "#16)Demonstrate how to use memory profiling to check the memory usage of a small program\n",
        "\n",
        "!pip install memory_profiler\n",
        "from memory_profiler import profile\n",
        "\n",
        "@profile\n",
        "def function_to_profile():\n",
        "    a = [1] * (10 ** 6)  # Allocate a list with 1 million integers\n",
        "    b = [2] * (2 * 10 ** 7)  # Allocate a list with 20 million integers\n",
        "    del b  # Delete b to free up memory\n",
        "    return a\n",
        "\n",
        "if __name__ == '__main__':\n",
        "    function_to_profile()\n",
        "    #python -m memory_profiler your_script.py is a shell command, needs ! prefix\n",
        "    #!python -m memory_profiler your_script.py\n",
        "    #The above line is not executable in this context, it's for a separate file execution.\n",
        "    #To run memory_profiler within this environment, use:\n",
        "    %load_ext memory_profiler\n",
        "    %memit function_to_profile()\n",
        "@profile\n",
        "def function_to_profile():\n",
        "    a = [1] * (10 ** 6)  # Allocate a list with 1 million integers\n",
        "    b = [2] * (2 * 10 ** 7)  # Allocate a list with 20 million integers\n",
        "    del b  # Delete b to free up memory\n",
        "    return a\n",
        "\n",
        "\n",
        "    #To run memory_profiler within this environment, use:\n",
        "    %load_ext memory_profiler\n",
        "    %memit function_to_profile()\n",
        "@profile\n",
        "def function_to_profile():\n",
        "    a = [1] * (10 ** 6)  # Allocate a list with 1 million integers\n",
        "    b = [2] * (2 * 10 ** 7)  # Allocate a list with 20 million integers\n",
        "    del b  # Delete b to free up memory\n",
        "    return a\n",
        "\n",
        "if __name__ == '__main__':\n",
        "    function_to_profile()\n",
        "    #!python -m memory_profiler your_script.py\n"
      ],
      "metadata": {
        "colab": {
          "base_uri": "https://localhost:8080/"
        },
        "id": "80avKJTR3XEq",
        "outputId": "bfd34241-d79e-4bae-bcf3-305cfa9d2f15"
      },
      "execution_count": 22,
      "outputs": [
        {
          "output_type": "stream",
          "name": "stdout",
          "text": [
            "Requirement already satisfied: memory_profiler in /usr/local/lib/python3.11/dist-packages (0.61.0)\n",
            "Requirement already satisfied: psutil in /usr/local/lib/python3.11/dist-packages (from memory_profiler) (5.9.5)\n",
            "ERROR: Could not find file <ipython-input-22-212a12726bc0>\n",
            "NOTE: %mprun can only be used on functions defined in physical files, and not in the IPython environment.\n",
            "The memory_profiler extension is already loaded. To reload it, use:\n",
            "  %reload_ext memory_profiler\n",
            "ERROR: Could not find file <ipython-input-22-212a12726bc0>\n",
            "NOTE: %mprun can only be used on functions defined in physical files, and not in the IPython environment.\n",
            "peak memory: 285.22 MiB, increment: 143.14 MiB\n",
            "ERROR: Could not find file <ipython-input-22-212a12726bc0>\n",
            "NOTE: %mprun can only be used on functions defined in physical files, and not in the IPython environment.\n"
          ]
        }
      ]
    },
    {
      "cell_type": "code",
      "source": [
        "#16)Demonstrate how to use memory profiling to check the memory usage of a small program?\n",
        "\n",
        "\n",
        "\n",
        "!pip install memory_profiler\n",
        "\n",
        "from memory_profiler import profile\n",
        "\n",
        "@profile\n",
        "def function_to_profile():\n",
        "    a = [1] * (10 ** 6)  # Allocate a list with 1 million integers\n",
        "    b = [2] * (2 * 10 ** 7)  # Allocate a list with 20 million integers\n",
        "    del b  # Delete b to free up memory\n",
        "    return a\n",
        "\n"
      ],
      "metadata": {
        "colab": {
          "base_uri": "https://localhost:8080/"
        },
        "id": "jH8zigSv4Gmu",
        "outputId": "0a7e44af-d862-429b-8c54-5b4ca2372485"
      },
      "execution_count": 25,
      "outputs": [
        {
          "output_type": "stream",
          "name": "stdout",
          "text": [
            "Requirement already satisfied: memory_profiler in /usr/local/lib/python3.11/dist-packages (0.61.0)\n",
            "Requirement already satisfied: psutil in /usr/local/lib/python3.11/dist-packages (from memory_profiler) (5.9.5)\n"
          ]
        }
      ]
    },
    {
      "cell_type": "code",
      "source": [
        "#17) Write a Python program to create and write a list of numbers to a file, one number per line?\n",
        "\n",
        "\n",
        "\n",
        "numbers = [1, 2, 3, 4, 5]\n",
        "\n",
        "with open('numbers.txt', 'w') as file:\n",
        "    for number in numbers:\n",
        "        file.write(f\"{number}\\n\")"
      ],
      "metadata": {
        "id": "maTIumzN57-u"
      },
      "execution_count": 27,
      "outputs": []
    },
    {
      "cell_type": "code",
      "source": [
        "#18) How would you implement a basic logging setup that logs to a file with rotation after 1MB?\n",
        "\n",
        "\n",
        "import logging\n",
        "from logging.handlers import RotatingFileHandler\n",
        "logger = logging.getLogger('my_logger')\n",
        "logger.setLevel(logging.DEBUG)  # Set the desired logging level\n",
        "\n",
        "# Create a rotating file handler\n",
        "handler = RotatingFileHandler(\n",
        "    'app.log',       # Log file name\n",
        "    maxBytes=1e6,    # Maximum file size in bytes (1MB)\n",
        "    backupCount=5    # Number of backup files to keep\n",
        ")\n",
        "\n",
        "# Create a formatter and set it for the handler\n",
        "formatter = logging.Formatter('%(asctime)s - %(name)s - %(levelname)s - %(message)s')\n",
        "handler.setFormatter(formatter)\n",
        "\n",
        "# Add the handler to the logger\n",
        "logger.addHandler(handler)\n",
        "\n",
        "logger.debug('This is a debug message')\n",
        "logger.info('Informational message')\n",
        "logger.warning('Warning message')\n",
        "logger.error('Error message')\n",
        "logger.critical('Critical message')"
      ],
      "metadata": {
        "colab": {
          "base_uri": "https://localhost:8080/"
        },
        "id": "GqnW_CWt61Dc",
        "outputId": "70a30587-1227-4cc9-c214-aa42df463306"
      },
      "execution_count": 28,
      "outputs": [
        {
          "output_type": "stream",
          "name": "stderr",
          "text": [
            "DEBUG:my_logger:This is a debug message\n",
            "INFO:my_logger:Informational message\n",
            "WARNING:my_logger:Warning message\n",
            "ERROR:my_logger:Error message\n",
            "CRITICAL:my_logger:Critical message\n"
          ]
        }
      ]
    },
    {
      "cell_type": "code",
      "source": [
        "#19) Write a program that handles both IndexError and KeyError using a try-except block?\n",
        "\n",
        "\n",
        "my_list = [1, 2, 3]\n",
        "\n",
        "try:\n",
        "    value = my_list[5]\n",
        "except IndexError:\n",
        "    print(\"Error: Index is out of range.\")\n",
        "except KeyError:\n",
        "    print(\"Error: Key not found in dictionary.\")\n"
      ],
      "metadata": {
        "colab": {
          "base_uri": "https://localhost:8080/"
        },
        "id": "SSRyCIYL7WsZ",
        "outputId": "10295157-36f7-4bb9-f846-33042c36d055"
      },
      "execution_count": 29,
      "outputs": [
        {
          "output_type": "stream",
          "name": "stdout",
          "text": [
            "Error: Index is out of range.\n"
          ]
        }
      ]
    },
    {
      "cell_type": "code",
      "source": [
        "#20) How would you open a file and read its contents using a context manager in Python?\n",
        "\n",
        "\n",
        "with open('example.txt', 'r') as file:\n",
        "    content = file.read()\n",
        "    print(content)"
      ],
      "metadata": {
        "colab": {
          "base_uri": "https://localhost:8080/"
        },
        "id": "qNitcPnt8bhr",
        "outputId": "79472878-0c33-4437-cc17-6e4914b78e56"
      },
      "execution_count": 30,
      "outputs": [
        {
          "output_type": "stream",
          "name": "stdout",
          "text": [
            "\n",
            "This is an additional line.This is the new content to append.\n",
            "\n"
          ]
        }
      ]
    },
    {
      "cell_type": "code",
      "source": [
        "#21) Write a Python program that reads a file and prints the number of occurrences of a specific word?\n",
        "\n",
        "\n",
        "def count_word_occurrences(filename, target_word):\n",
        "    count = 0\n",
        "    with open(filename, 'r') as file:\n",
        "        for line in file:\n",
        "            words = line.split()\n",
        "            count += words.count(target_word)\n",
        "    return count\n",
        "\n",
        "# Move these lines outside the function definition\n",
        "filename = 'example.txt'\n",
        "target_word = 'specific_word'\n",
        "\n",
        "# Now you can call the function and print the results\n",
        "occurrences = count_word_occurrences(filename, target_word)\n",
        "print(f\"The word '{target_word}' appears {occurrences} times in the file.\")"
      ],
      "metadata": {
        "colab": {
          "base_uri": "https://localhost:8080/"
        },
        "id": "VkM7jJU29Mqi",
        "outputId": "cc55181d-482c-4fb5-96d0-48d4db8a355e"
      },
      "execution_count": 32,
      "outputs": [
        {
          "output_type": "stream",
          "name": "stdout",
          "text": [
            "The word 'specific_word' appears 0 times in the file.\n"
          ]
        }
      ]
    },
    {
      "cell_type": "code",
      "source": [
        "#22) How can you check if a file is empty before attempting to read its contents?\n",
        "\n",
        "\n",
        "\n",
        "\n",
        "\n",
        "def is_file_empty(filename):\n",
        "    try:\n",
        "        with open(filename, 'r') as file:\n",
        "            content = file.read()\n",
        "            return not content  # or len(content) == 0\n",
        "    except FileNotFoundError:\n",
        "        return True # Or handle the exception as needed"
      ],
      "metadata": {
        "id": "E--qaTmd9snp"
      },
      "execution_count": 34,
      "outputs": []
    },
    {
      "cell_type": "code",
      "source": [
        "#23)Write a Python program that writes to a log file when an error occurs during file handling.\n",
        "\n",
        "\n",
        "\n",
        "import logging\n",
        "logging.basicConfig(\n",
        "    filename='file_operations.log',  # Log file name\n",
        "    level=logging.ERROR,             # Log level set to ERROR\n",
        "    format='%(asctime)s %(levelname)s: %(message)s'\n",
        ")\n",
        "try:\n",
        "    with open('example.txt', 'r') as file:\n",
        "        content = file.read()\n",
        "        # Process the content\n",
        "except FileNotFoundError as e:\n",
        "    logging.error(f\"File not found: {e}\")\n",
        "except IOError as e:\n",
        "    logging.error(f\"IO error occurred: {e}\")\n",
        "except Exception as e:\n",
        "    logging.error(f\"An unexpected error occurred: {e}\")"
      ],
      "metadata": {
        "id": "vg5bHs2T-OTP"
      },
      "execution_count": 35,
      "outputs": []
    }
  ]
}